{
 "cells": [
  {
   "cell_type": "code",
   "execution_count": 1,
   "metadata": {},
   "outputs": [
    {
     "name": "stderr",
     "output_type": "stream",
     "text": [
      "Using TensorFlow backend.\n"
     ]
    }
   ],
   "source": [
    "import numpy as np\n",
    "%matplotlib inline\n",
    "import matplotlib.pyplot as plt\n",
    "\n",
    "import keras\n",
    "from keras.datasets import mnist"
   ]
  },
  {
   "cell_type": "code",
   "execution_count": 2,
   "metadata": {},
   "outputs": [
    {
     "name": "stdout",
     "output_type": "stream",
     "text": [
      "Downloading data from https://s3.amazonaws.com/img-datasets/mnist.npz\n",
      "11493376/11490434 [==============================] - 2s 0us/step\n"
     ]
    }
   ],
   "source": [
    "# the data, shuffled and split between train and test sets\n",
    "(x_train, y_train), (x_test, y_test) = mnist.load_data()"
   ]
  },
  {
   "cell_type": "code",
   "execution_count": 3,
   "metadata": {
    "collapsed": true
   },
   "outputs": [],
   "source": [
    "# simple data preprocessing to help with training\n",
    "st_dev = np.std(x_train)\n",
    "mean = np.mean(x_train)\n",
    "x_train = (x_train - mean) / st_dev\n",
    "x_test = (x_test - mean) / st_dev"
   ]
  },
  {
   "cell_type": "code",
   "execution_count": 4,
   "metadata": {
    "collapsed": true
   },
   "outputs": [],
   "source": [
    "from keras.models import Sequential\n",
    "from keras.layers import Dense, Activation, BatchNormalization, Flatten, MaxPooling2D, Conv2D, GlobalAveragePooling2D\n",
    "from keras.optimizers import Adam"
   ]
  },
  {
   "cell_type": "code",
   "execution_count": 5,
   "metadata": {
    "collapsed": true
   },
   "outputs": [],
   "source": [
    "def get_new_model():\n",
    "    model = Sequential([\n",
    "        Flatten(input_shape=(28, 28)),\n",
    "        Dense(20),\n",
    "        BatchNormalization(),\n",
    "        Activation('relu'),\n",
    "        Dense(10),\n",
    "        BatchNormalization(),\n",
    "        Activation('softmax')\n",
    "    ])\n",
    "    model.compile(Adam(lr=1e-2), 'sparse_categorical_crossentropy', metrics=['accuracy'])\n",
    "    return model"
   ]
  },
  {
   "cell_type": "code",
   "execution_count": 6,
   "metadata": {},
   "outputs": [
    {
     "name": "stdout",
     "output_type": "stream",
     "text": [
      "_________________________________________________________________\n",
      "Layer (type)                 Output Shape              Param #   \n",
      "=================================================================\n",
      "flatten_1 (Flatten)          (None, 784)               0         \n",
      "_________________________________________________________________\n",
      "dense_1 (Dense)              (None, 20)                15700     \n",
      "_________________________________________________________________\n",
      "batch_normalization_1 (Batch (None, 20)                80        \n",
      "_________________________________________________________________\n",
      "activation_1 (Activation)    (None, 20)                0         \n",
      "_________________________________________________________________\n",
      "dense_2 (Dense)              (None, 10)                210       \n",
      "_________________________________________________________________\n",
      "batch_normalization_2 (Batch (None, 10)                40        \n",
      "_________________________________________________________________\n",
      "activation_2 (Activation)    (None, 10)                0         \n",
      "=================================================================\n",
      "Total params: 16,030\n",
      "Trainable params: 15,970\n",
      "Non-trainable params: 60\n",
      "_________________________________________________________________\n"
     ]
    }
   ],
   "source": [
    "get_new_model().summary()"
   ]
  },
  {
   "cell_type": "code",
   "execution_count": 7,
   "metadata": {
    "collapsed": true
   },
   "outputs": [],
   "source": [
    "# Deltas for step sizes in weight space - roughly 1 std dev for each set of weights based on a single data point\n",
    "dense1_delta = 0.25\n",
    "dense1_bias_delta = 0.004\n",
    "dense4_delta = 0.4\n",
    "dense4_bias_delta = 0.05"
   ]
  },
  {
   "cell_type": "code",
   "execution_count": 8,
   "metadata": {
    "collapsed": true
   },
   "outputs": [],
   "source": [
    "train_results, test_results = [], []\n",
    "train_results_with_deltas = []\n",
    "\n",
    "step_size = 0.2\n",
    "models_to_evaluate = 100\n",
    "measurements_per_model = 20\n",
    "\n",
    "for i in range(models_to_evaluate):\n",
    "    model = get_new_model()\n",
    "    h = model.fit(x_train, y_train, batch_size=256, shuffle=True, epochs=4,\n",
    "                  validation_data=(x_test, y_test), verbose=0)\n",
    "\n",
    "    train_results.append(model.evaluate(x_train, y_train, batch_size=60000, verbose=0))\n",
    "    test_results.append(model.evaluate(x_test, y_test, batch_size=10000, verbose=0))\n",
    "    \n",
    "    # Storing weights so that we can alter them multiple times\n",
    "    dense1 = model.layers[1].get_weights()[0]\n",
    "    dense1_bias = model.layers[1].get_weights()[1]\n",
    "    dense4 = model.layers[4].get_weights()[0]\n",
    "    dense4_bias = model.layers[4].get_weights()[1]\n",
    "\n",
    "    results_with_deltas = []\n",
    "    \n",
    "    for _ in range(measurements_per_model):\n",
    "        # Applying random deltas to the weights\n",
    "        model.layers[1].set_weights([\n",
    "            dense1 + np.random.normal(size=(784, 20)) * dense1_delta * step_size,\n",
    "            dense1_bias + np.random.normal(size=(20,)) * dense1_bias_delta * step_size\n",
    "        ])\n",
    "        model.layers[4].set_weights([\n",
    "            dense4 + np.random.normal(size=(20, 10)) * dense4_delta * step_size,\n",
    "            dense4_bias + np.random.normal(size=(10,)) * dense4_bias_delta * step_size\n",
    "        ])\n",
    "\n",
    "        # Evaluating the model on the train set again and storing results\n",
    "        results_with_deltas.append(model.evaluate(x_train, y_train, batch_size=60000, verbose=0))\n",
    "        \n",
    "    train_results_with_deltas.append(results_with_deltas)"
   ]
  },
  {
   "cell_type": "code",
   "execution_count": 9,
   "metadata": {},
   "outputs": [
    {
     "name": "stdout",
     "output_type": "stream",
     "text": [
      "Average accuracy: 0.9535101228952407\n"
     ]
    }
   ],
   "source": [
    "train_loss = np.array([measurement[0] for measurement in train_results])\n",
    "test_loss = np.array([measurement[0] for measurement in test_results])\n",
    "train_loss_with_deltas = np.array([[m[0] for m in measurements] for measurements in train_results_with_deltas])\n",
    "print(f'Average accuracy: {np.mean(np.array([measurement[1] for measurement in test_results]))}')"
   ]
  },
  {
   "cell_type": "code",
   "execution_count": 10,
   "metadata": {
    "collapsed": true
   },
   "outputs": [],
   "source": [
    "generalization_deltas = test_loss - train_loss\n",
    "perturbation_deltas = train_loss_with_deltas - train_loss.reshape(models_to_evaluate, -1)\n",
    "perturbation_deltas_sum = np.sum(np.abs(perturbation_deltas), axis=1)"
   ]
  },
  {
   "cell_type": "code",
   "execution_count": 11,
   "metadata": {},
   "outputs": [
    {
     "data": {
      "text/plain": [
       "<matplotlib.text.Text at 0x7f827cc3b128>"
      ]
     },
     "execution_count": 11,
     "metadata": {},
     "output_type": "execute_result"
    },
    {
     "data": {
      "image/png": "[encoded data removed]",
      "text/plain": [
       "<matplotlib.figure.Figure at 0x7f833d005e80>"
      ]
     },
     "metadata": {},
     "output_type": "display_data"
    }
   ],
   "source": [
    "plt.scatter(perturbation_deltas_sum, generalization_deltas)\n",
    "plt.gca().invert_yaxis()\n",
    "plt.xlabel('error surface spikiness')\n",
    "plt.ylabel('ability to generalize')\n",
    "plt.title('Ability to generalize vs uniformity of surrounding error surface')"
   ]
  }
 ],
 "metadata": {
  "kernelspec": {
   "display_name": "Python 3",
   "language": "python",
   "name": "python3"
  },
  "language_info": {
   "codemirror_mode": {
    "name": "ipython",
    "version": 3
   },
   "file_extension": ".py",
   "mimetype": "text/x-python",
   "name": "python",
   "nbconvert_exporter": "python",
   "pygments_lexer": "ipython3",
   "version": "3.6.3"
  }
 },
 "nbformat": 4,
 "nbformat_minor": 2
}
